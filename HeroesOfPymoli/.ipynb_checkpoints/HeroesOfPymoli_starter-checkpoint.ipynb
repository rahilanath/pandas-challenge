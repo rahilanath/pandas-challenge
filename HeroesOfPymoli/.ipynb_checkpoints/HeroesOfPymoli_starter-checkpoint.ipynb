{
 "cells": [
  {
   "cell_type": "markdown",
   "metadata": {},
   "source": [
    "### Note\n",
    "* Instructions have been included for each segment. You do not have to follow them exactly, but they are included to help you think through the steps."
   ]
  },
  {
   "cell_type": "code",
   "execution_count": null,
   "metadata": {},
   "outputs": [],
   "source": [
    "# Dependencies and Setup\n",
    "import pandas as pd\n",
    "\n",
    "# File to Load (Remember to Change These)\n",
    "file_to_load = \"Resources/purchase_data.csv\"\n",
    "\n",
    "# Read Purchasing File and store into Pandas data frame\n",
    "purchase_data = pd.read_csv(file_to_load)\n",
    "purchase_data.head()"
   ]
  },
  {
   "cell_type": "markdown",
   "metadata": {},
   "source": [
    "## Player Count"
   ]
  },
  {
   "cell_type": "markdown",
   "metadata": {},
   "source": [
    "* Display the total number of players\n"
   ]
  },
  {
   "cell_type": "code",
   "execution_count": null,
   "metadata": {},
   "outputs": [],
   "source": [
    "# Calculate number of unique player screen names\n",
    "unique_players = purchase_data['SN'].nunique()\n",
    "\n",
    "# Put total into DataFrame to display\n",
    "total_players = pd.DataFrame({'Total Players': [unique_players]})\n",
    "\n",
    "# Display total number of players\n",
    "total_players.head()"
   ]
  },
  {
   "cell_type": "markdown",
   "metadata": {},
   "source": [
    "## Purchasing Analysis (Total)"
   ]
  },
  {
   "cell_type": "markdown",
   "metadata": {},
   "source": [
    "* Run basic calculations to obtain number of unique items, average price, etc.\n",
    "\n",
    "\n",
    "* Create a summary data frame to hold the results\n",
    "\n",
    "\n",
    "* Optional: give the displayed data cleaner formatting\n",
    "\n",
    "\n",
    "* Display the summary data frame\n"
   ]
  },
  {
   "cell_type": "code",
   "execution_count": null,
   "metadata": {
    "scrolled": true
   },
   "outputs": [],
   "source": [
    "# Run calculations for columns\n",
    "unique_items = purchase_data['Item ID'].nunique()\n",
    "avg_price = purchase_data['Price'].mean()\n",
    "purchases_count = purchase_data['Purchase ID'].count()\n",
    "total_revenue = purchase_data['Price'].sum()\n",
    "\n",
    "# Create summary data frame with results\n",
    "total_analysis = pd.DataFrame({'Number of Unique Items': [unique_items],\n",
    "                                  'Average Price': [avg_price],\n",
    "                                  'Number of Purchases': [purchases_count],\n",
    "                                  'Total Revenue': [total_revenue]})\n",
    "\n",
    "# Clean data formatting for currency columns\n",
    "total_analysis['Average Price'] = total_analysis['Average Price'].astype(float).map('${:,.2f}'.format)\n",
    "total_analysis['Total Revenue'] = total_analysis['Total Revenue'].astype(float).map('${:,.2f}'.format)\n",
    "\n",
    "# Display Purchasing Analysis (Total) frame\n",
    "total_analysis.head()"
   ]
  },
  {
   "cell_type": "markdown",
   "metadata": {},
   "source": [
    "## Gender Demographics"
   ]
  },
  {
   "cell_type": "markdown",
   "metadata": {},
   "source": [
    "* Percentage and Count of Male Players\n",
    "\n",
    "\n",
    "* Percentage and Count of Female Players\n",
    "\n",
    "\n",
    "* Percentage and Count of Other / Non-Disclosed\n",
    "\n",
    "\n"
   ]
  },
  {
   "cell_type": "code",
   "execution_count": null,
   "metadata": {},
   "outputs": [],
   "source": [
    "# Create DataFrame with just SN and Gender column data\n",
    "player_genders = purchase_data[['SN','Gender']]\n",
    "\n",
    "# Drop duplicates since pandas doesn't have a bloody select distinct rows equivalent. oh sure you can perform join functions\n",
    "# SUPER FAST BUT WHEN IT COMES TO QUICKLY PULLING DISTINCT VALUES YOU HAVE TO DANCE THE MACARENA OR SOMETHING!\n",
    "# code sample found at: http://www.datasciencemadesimple.com/get-unique-values-rows-dataframe-python-pandas/\n",
    "unique_genders = player_genders.drop_duplicates()\n",
    "\n",
    "# Calculate counts and percentage\n",
    "gender_count = unique_genders['Gender'].value_counts()\n",
    "total_unique_players = gender_count.sum()\n",
    "gender_percent = (gender_count / total_unique_players) * 100\n",
    "\n",
    "# Create DataFrame with Total Count of unique SN per gender group and percentage\n",
    "gender_demo = pd.DataFrame({'Total Count': gender_count,\n",
    "                            'Percentage of Players': gender_percent})\n",
    "\n",
    "# Clean data formatting for percentage columns\n",
    "gender_demo['Percentage of Players'] = gender_demo['Percentage of Players'].astype(float).map('{:,.2f}%'.format)\n",
    "\n",
    "# As a precaution: sort DataFrame as descending on Total Count and reset index\n",
    "gender_demo.sort_values('Total Count', ascending=False).reset_index(drop=True)\n",
    "\n",
    "# Display Gender Demographics frame\n",
    "gender_demo.head()"
   ]
  },
  {
   "cell_type": "markdown",
   "metadata": {},
   "source": [
    "\n",
    "## Purchasing Analysis (Gender)"
   ]
  },
  {
   "cell_type": "markdown",
   "metadata": {},
   "source": [
    "* Run basic calculations to obtain purchase count, avg. purchase price, avg. purchase total per person etc. by gender\n",
    "\n",
    "\n",
    "\n",
    "\n",
    "* Create a summary data frame to hold the results\n",
    "\n",
    "\n",
    "* Optional: give the displayed data cleaner formatting\n",
    "\n",
    "\n",
    "* Display the summary data frame"
   ]
  },
  {
   "cell_type": "code",
   "execution_count": null,
   "metadata": {},
   "outputs": [],
   "source": [
    "# Create DataFrame with Purchase ID, SN, Price column data and group by Gender\n",
    "gender_purchases = purchase_data[['Purchase ID','SN','Gender','Price']].groupby(['Gender'])\n",
    "\n",
    "# Calculate counts, mean, sum and count of unique players for Average Total Purchase\n",
    "gender_purchase_count = gender_purchases['Purchase ID'].count()\n",
    "gender_avg_purchase = gender_purchases['Price'].mean()\n",
    "gender_total_purchase = gender_purchases['Price'].sum()\n",
    "gender_unique_players = gender_purchases['SN'].nunique()\n",
    "gender_avg_total = gender_total_purchase / gender_unique_players\n",
    "\n",
    "# Create Purchasing Analysis DataFrame\n",
    "gender_analysis = pd.DataFrame({'Purchase Count': gender_purchase_count,\n",
    "                                'Average Purchase Price': gender_avg_purchase,\n",
    "                                'Total Purchase Value': gender_total_purchase,\n",
    "                                'Avg Total Purchase per Person': gender_avg_total})\n",
    "\n",
    "# Clean data formatting for currency columns\n",
    "gender_analysis['Average Purchase Price'] = gender_analysis['Average Purchase Price'].astype(float).map(\n",
    "    '${:,.2f}'.format)\n",
    "gender_analysis['Total Purchase Value'] = gender_analysis['Total Purchase Value'].astype(float).map(\n",
    "    '${:,.2f}'.format)\n",
    "gender_analysis['Avg Total Purchase per Person'] = gender_analysis['Avg Total Purchase per Person'].astype(float).map(\n",
    "    '${:,.2f}'.format)\n",
    "\n",
    "# Display Purchasing Analysis frame\n",
    "gender_analysis"
   ]
  },
  {
   "cell_type": "markdown",
   "metadata": {},
   "source": [
    "## Age Demographics"
   ]
  },
  {
   "cell_type": "markdown",
   "metadata": {},
   "source": [
    "* Establish bins for ages\n",
    "\n",
    "\n",
    "* Categorize the existing players using the age bins. Hint: use pd.cut()\n",
    "\n",
    "\n",
    "* Calculate the numbers and percentages by age group\n",
    "\n",
    "\n",
    "* Create a summary data frame to hold the results\n",
    "\n",
    "\n",
    "* Optional: round the percentage column to two decimal points\n",
    "\n",
    "\n",
    "* Display Age Demographics Table\n"
   ]
  },
  {
   "cell_type": "code",
   "execution_count": null,
   "metadata": {},
   "outputs": [],
   "source": [
    "# Create bins and labels\n",
    "age_bins = [0, 9, 14, 19, 24, 29, 34, 39, 50]\n",
    "bin_labels = ['<10','10-14','15-19','20-24','25-29','30-34','35-39','40+']\n",
    "\n",
    "# Add the new Age Ranges column using bins/labels\n",
    "purchase_data['Age Ranges'] = pd.cut(purchase_data['Age'], bins=age_bins, labels=bin_labels, include_lowest=True)\n",
    "\n",
    "# Create DataFrame with just SN and Age Ranges\n",
    "player_ages = purchase_data[['SN','Age Ranges']]\n",
    "\n",
    "# Drop duplicates\n",
    "# code sample found at: http://www.datasciencemadesimple.com/get-unique-values-rows-dataframe-python-pandas/\n",
    "unique_ages = player_ages.drop_duplicates()\n",
    "\n",
    "# Calculate counts and percentage\n",
    "age_count = unique_ages['Age Ranges'].value_counts()\n",
    "age_players = age_count.sum()\n",
    "age_percent = (age_count / age_players) * 100\n",
    "\n",
    "# # Create DataFrame with Total Count of unique SN per age range and percentage\n",
    "age_demo = pd.DataFrame({'Total Count': age_count,\n",
    "                         'Percentage of Players': age_percent})\n",
    "\n",
    "# # Clean data formatting for percentage columns\n",
    "age_demo['Percentage of Players'] = age_demo['Percentage of Players'].astype(float).map('{:,.2f}%'.format)\n",
    "\n",
    "# # Sort DataFrame by Age Ranges index and display frame\n",
    "age_demo.sort_index()"
   ]
  },
  {
   "cell_type": "markdown",
   "metadata": {},
   "source": [
    "## Purchasing Analysis (Age)"
   ]
  },
  {
   "cell_type": "markdown",
   "metadata": {},
   "source": [
    "* Bin the purchase_data data frame by age\n",
    "\n",
    "\n",
    "* Run basic calculations to obtain purchase count, avg. purchase price, avg. purchase total per person etc. in the table below\n",
    "\n",
    "\n",
    "* Create a summary data frame to hold the results\n",
    "\n",
    "\n",
    "* Optional: give the displayed data cleaner formatting\n",
    "\n",
    "\n",
    "* Display the summary data frame"
   ]
  },
  {
   "cell_type": "code",
   "execution_count": null,
   "metadata": {},
   "outputs": [],
   "source": [
    "# Create DataFrame with just Purchase ID, SN and Price colum data and group by Age Ranges\n",
    "age_purchases = purchase_data[['Purchase ID','SN','Price','Age Ranges']].groupby(['Age Ranges'])\n",
    "\n",
    "# Calculate counts, mean, sum and count of unique purchase for Age Demographics\n",
    "age_purchase_count = age_purchases['Purchase ID'].count()\n",
    "age_avg_purchase = age_purchases['Price'].mean()\n",
    "age_total_purchase = age_purchases['Price'].sum()\n",
    "age_unique_players = age_purchases['SN'].nunique()\n",
    "age_avg_total = age_total_purchase / age_unique_players\n",
    "\n",
    "# Create Age Demo DataFrame\n",
    "age_demo = pd.DataFrame({'Purchase Count': age_purchase_count,\n",
    "                         'Average Purchase Price': age_avg_purchase,\n",
    "                         'Total Purchase Value': age_total_purchase,\n",
    "                         'Avg Total Purchase per Person': age_avg_total})\n",
    "\n",
    "# Clean data formatting for currency columns\n",
    "age_demo['Average Purchase Price'] = age_demo['Average Purchase Price'].astype(float).map(\n",
    "    '${:,.2f}'.format)\n",
    "age_demo['Total Purchase Value'] = age_demo['Total Purchase Value'].astype(float).map(\n",
    "    '${:,.2f}'.format)\n",
    "age_demo['Avg Total Purchase per Person'] = age_demo['Avg Total Purchase per Person'].astype(float).map(\n",
    "    '${:,.2f}'.format)\n",
    "\n",
    "# Display Age Demographics frame\n",
    "age_demo"
   ]
  },
  {
   "cell_type": "markdown",
   "metadata": {},
   "source": [
    "## Top Spenders"
   ]
  },
  {
   "cell_type": "markdown",
   "metadata": {},
   "source": [
    "* Run basic calculations to obtain the results in the table below\n",
    "\n",
    "\n",
    "* Create a summary data frame to hold the results\n",
    "\n",
    "\n",
    "* Sort the total purchase value column in descending order\n",
    "\n",
    "\n",
    "* Optional: give the displayed data cleaner formatting\n",
    "\n",
    "\n",
    "* Display a preview of the summary data frame\n",
    "\n"
   ]
  },
  {
   "cell_type": "code",
   "execution_count": null,
   "metadata": {},
   "outputs": [],
   "source": [
    "# Create DataFrame with Purchase ID, Price and group by SN\n",
    "spender_purchases = purchase_data[['Purchase ID','SN','Price']].groupby(['SN'])\n",
    "\n",
    "# Calculate counts, mean, sum of unique purchase for Top Spenders\n",
    "spender_purchase_count = spender_purchases['Purchase ID'].count()\n",
    "spender_avg_purchase = spender_purchases['Price'].mean()\n",
    "spender_total_purchase = spender_purchases['Price'].sum()\n",
    "\n",
    "# Create Top Spenders DataFrame\n",
    "top_spenders = pd.DataFrame({'Purchase Count': spender_purchase_count,\n",
    "                             'Average Purchase Price': spender_avg_purchase,\n",
    "                             'Total Purchase Value': spender_total_purchase})\n",
    "\n",
    "# Sort DataFrame by Total Purchase Value\n",
    "top_spenders = top_spenders.sort_values('Total Purchase Value', ascending=False)\n",
    "\n",
    "# Clean data formatting for currency columns\n",
    "top_spenders['Average Purchase Price'] = top_spenders['Average Purchase Price'].astype(float).map(\n",
    "    '${:,.2f}'.format)\n",
    "top_spenders['Total Purchase Value'] = top_spenders['Total Purchase Value'].astype(float).map(\n",
    "    '${:,.2f}'.format)\n",
    "\n",
    "# Display top 5 preview of Top Spenders DataFrame\n",
    "top_spenders.head(5)"
   ]
  },
  {
   "cell_type": "markdown",
   "metadata": {},
   "source": [
    "## Most Popular Items"
   ]
  },
  {
   "cell_type": "markdown",
   "metadata": {},
   "source": [
    "* Retrieve the Item ID, Item Name, and Item Price columns\n",
    "\n",
    "\n",
    "* Group by Item ID and Item Name. Perform calculations to obtain purchase count, item price, and total purchase value\n",
    "\n",
    "\n",
    "* Create a summary data frame to hold the results\n",
    "\n",
    "\n",
    "* Sort the purchase count column in descending order\n",
    "\n",
    "\n",
    "* Optional: give the displayed data cleaner formatting\n",
    "\n",
    "\n",
    "* Display a preview of the summary data frame\n",
    "\n"
   ]
  },
  {
   "cell_type": "code",
   "execution_count": null,
   "metadata": {},
   "outputs": [],
   "source": [
    "# Create DataFrame with Purchase ID, Price and group by Item ID and Item Name\n",
    "item_purchases = purchase_data[['Purchase ID','Item ID','Item Name','Price']].groupby(['Item ID','Item Name'])\n",
    "\n",
    "# Calculate counts and sum of purchases and prices for Most Popular Items\n",
    "item_count = item_purchases['Item ID'].count()\n",
    "item_price = item_purchases['Price'].mean()\n",
    "total_purchase = item_purchases['Price'].sum()\n",
    "\n",
    "# Create Most Popular Items DataFrame\n",
    "most_pop_items = pd.DataFrame({'Purchase Count': item_count,\n",
    "                               'Item Price': item_price,\n",
    "                               'Total Purchase Value': total_purchase})\n",
    "\n",
    "# Sort DataFrame by Purchase Count\n",
    "most_pop_items_by_count = most_pop_items.sort_values('Purchase Count', ascending=False)\n",
    "\n",
    "# Clean data formatting for currency columns\n",
    "most_pop_items_by_count['Item Price'] = most_pop_items_by_count['Item Price'].astype(float).map(\n",
    "    '${:,.2f}'.format)\n",
    "most_pop_items_by_count['Total Purchase Value'] = most_pop_items_by_count['Total Purchase Value'].astype(float).map(\n",
    "    '${:,.2f}'.format)\n",
    "\n",
    "# Display top 5 preview of Most Popular Items DataFrame\n",
    "most_pop_items_by_count.head(5)"
   ]
  },
  {
   "cell_type": "markdown",
   "metadata": {},
   "source": [
    "## Most Profitable Items"
   ]
  },
  {
   "cell_type": "markdown",
   "metadata": {},
   "source": [
    "* Sort the above table by total purchase value in descending order\n",
    "\n",
    "\n",
    "* Optional: give the displayed data cleaner formatting\n",
    "\n",
    "\n",
    "* Display a preview of the data frame\n",
    "\n"
   ]
  },
  {
   "cell_type": "code",
   "execution_count": null,
   "metadata": {
    "scrolled": true
   },
   "outputs": [],
   "source": [
    "# Create new DataFrame for Most Popular Items and sort by Total Purchase Value descending\n",
    "most_pop_items_by_total = most_pop_items.sort_values('Total Purchase Value', ascending=False)\n",
    "\n",
    "# Clean data formatting for currency columns\n",
    "most_pop_items_by_total['Item Price'] = most_pop_items_by_total['Item Price'].astype(float).map(\n",
    "    '${:,.2f}'.format)\n",
    "most_pop_items_by_total['Total Purchase Value'] = most_pop_items_by_total['Total Purchase Value'].astype(float).map(\n",
    "    '${:,.2f}'.format)\n",
    "\n",
    "# Display top 5 preview of n Most Popular Items DataFrame\n",
    "most_pop_items_by_total.head(5)"
   ]
  }
 ],
 "metadata": {
  "anaconda-cloud": {},
  "kernel_info": {
   "name": "python3"
  },
  "kernelspec": {
   "display_name": "Python 3",
   "language": "python",
   "name": "python3"
  },
  "language_info": {
   "codemirror_mode": {
    "name": "ipython",
    "version": 3
   },
   "file_extension": ".py",
   "mimetype": "text/x-python",
   "name": "python",
   "nbconvert_exporter": "python",
   "pygments_lexer": "ipython3",
   "version": "3.6.10"
  },
  "latex_envs": {
   "LaTeX_envs_menu_present": true,
   "autoclose": false,
   "autocomplete": true,
   "bibliofile": "biblio.bib",
   "cite_by": "apalike",
   "current_citInitial": 1,
   "eqLabelWithNumbers": true,
   "eqNumInitial": 1,
   "hotkeys": {
    "equation": "Ctrl-E",
    "itemize": "Ctrl-I"
   },
   "labels_anchors": false,
   "latex_user_defs": false,
   "report_style_numbering": false,
   "user_envs_cfg": false
  },
  "nteract": {
   "version": "0.2.0"
  }
 },
 "nbformat": 4,
 "nbformat_minor": 2
}
